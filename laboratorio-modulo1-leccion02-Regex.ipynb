{
 "cells": [
  {
   "cell_type": "markdown",
   "metadata": {},
   "source": [
    "<div style=\"text-align: center;\">\n",
    "  <img src=\"https://github.com/Hack-io-Data/Imagenes/blob/main/01-LogosHackio/logo_naranja@4x.png?raw=true\" alt=\"esquema\" />\n",
    "</div>"
   ]
  },
  {
   "cell_type": "markdown",
   "metadata": {},
   "source": [
    "# Laboratorio de Regex:"
   ]
  },
  {
   "cell_type": "markdown",
   "metadata": {},
   "source": [
    "### Ejercicio 1: Extracción de datos.\n",
    "\n",
    "Recuerda que necesitamos hacer importaciones antes de enfrentarnos a un problema. "
   ]
  },
  {
   "cell_type": "code",
   "execution_count": 1,
   "metadata": {},
   "outputs": [],
   "source": [
    "# Importaciones:\n",
    "## Para trabajar con expresiones regulares\n",
    "import re \n",
    "\n",
    "## Para contar las palabras de un texto \n",
    "from collections import Counter \n",
    "\n",
    "from collections import defaultdict\n"
   ]
  },
  {
   "cell_type": "markdown",
   "metadata": {},
   "source": [
    "Dado el archivo `datos_artistas.txt` usa las **expresiones regulares** para extraer los siguientes datos, con el código que encontrarás en la siguiente celda:"
   ]
  },
  {
   "cell_type": "code",
   "execution_count": 2,
   "metadata": {},
   "outputs": [
    {
     "name": "stdout",
     "output_type": "stream",
     "text": [
      "BobDylan bob.dylan@gmail.com -1 123456789 http://bobdylan.com Like a Rolling Stone - 6:13 1965 Once upon a time you dressed so fine\n",
      "Threw the bums a dime in your prime, didn't you?\n",
      "People call say 'be\n"
     ]
    }
   ],
   "source": [
    "with open('Datos/datos_artistas.txt', 'r', encoding='utf-8') as archivo:\n",
    "    contenido = archivo.read()\n",
    "    # Aquí puedes trabajar con el contenido del archivo\n",
    "\n",
    "print(contenido[:200])"
   ]
  },
  {
   "cell_type": "markdown",
   "metadata": {},
   "source": [
    "#### 1.1 La información de cada artista(nombre, correo de contacto, número de contacto y sitio web)."
   ]
  },
  {
   "cell_type": "code",
   "execution_count": 3,
   "metadata": {},
   "outputs": [
    {
     "name": "stdout",
     "output_type": "stream",
     "text": [
      "[['BobDylan', 'bob.dylan@gmail.com', '123456789', 'http://bobdylan.com'], ['TheBeatles', 'contact@thebeatles.co.uk', '234567890', 'http://thebeatles.co.uk'], ['EltonJohn', 'elton.john@hotmail.com', '345678901', 'http://eltonjohn.com'], ['Queen', 'info@queenonline.com', '456789012', 'http://queenonline.com'], ['MichaelJackson', 'michael.jackson@yahoo.com', '567890123', 'http://michaeljackson.com'], ['Madonna', 'madonna@madonna.com', '678901234', 'http://madonna.com'], ['DavidBowie', 'david.bowie@outlook.com', '789012345', 'http://davidbowie.com'], ['Nirvana', 'contact@nirvana.com', '890123456', 'http://nirvana.com'], ['Adele', 'adele@adele.com', '901234567', 'http://adele.com'], ['EdSheeran', 'ed.sheeran@gmail.com', '123456789', 'http://edsheeran.com'], ['Beyoncé', 'beyonce@beyonce.com', '234567890', 'http://beyonce.com'], ['TaylorSwift', 'taylor.swift@yahoo.com', '345678901', 'http://taylorswift.com'], ['Rihanna', 'rihanna@hotmail.com', '456789012', 'http://rihanna.com'], ['Drake,', 'drake@drake.com', '567890123,', 'http://drake.com'], ['KanyeWest', 'kanye.west@gmail.com', '678901234', 'http://kanyewest.com'], ['BrunoMars', 'bruno.mars@outlook.com', '789012345', 'https://brunomars.com'], ['ArianaGrande', 'ariana.grande@yahoo.com', '890123456', 'https://arianagrande.com'], ['Shakira,', 'shakira@hotmail.com', '123456789,', 'http://shakira.com'], ['Coldplay', 'info@coldplay.com', '234567890', 'http://coldplay.com'], ['LadyGaga', 'lady.gaga@gmail.com', '345678901', 'https://ladygaga.com']]\n"
     ]
    }
   ],
   "source": [
    "aux1 = contenido.split(\"./\")\n",
    "artistas=[]\n",
    "for elem in aux1:\n",
    "    aux_bucle = elem.split()\n",
    "    artistas.append([aux_bucle[0], aux_bucle[1], aux_bucle[3], aux_bucle[4]])\n",
    "\n",
    "print(artistas)"
   ]
  },
  {
   "cell_type": "markdown",
   "metadata": {},
   "source": [
    "#### 1.2 La información de cada canción(título, duración y fecha de lanzamiento)."
   ]
  },
  {
   "cell_type": "code",
   "execution_count": 4,
   "metadata": {},
   "outputs": [
    {
     "data": {
      "text/plain": [
       "['Like a Rolling Stone',\n",
       " 'Hey Jude',\n",
       " 'Your Song',\n",
       " 'Bohemian Rhapsody',\n",
       " 'Billie Jean',\n",
       " 'Like a Prayer',\n",
       " 'Space Oddity',\n",
       " 'Smells Like Teen Spirit',\n",
       " 'Someone Like You',\n",
       " 'Shape of You',\n",
       " 'Halo',\n",
       " 'Blank Space',\n",
       " 'Diamonds',\n",
       " 'Hotline Bling',\n",
       " 'Stronger',\n",
       " 'Uptown Funk',\n",
       " '7 Rings',\n",
       " \"Hips Don't Lie\",\n",
       " 'Yellow',\n",
       " 'Bad Romance']"
      ]
     },
     "execution_count": 4,
     "metadata": {},
     "output_type": "execute_result"
    }
   ],
   "source": [
    "canciones = contenido.split(\"http\")[1:]\n",
    "\n",
    "titulos_sucio =[]\n",
    "for elem in canciones:\n",
    "    patron = r'\\.com|\\.net|\\.uk|\\.es|\\.us'\n",
    "    resultado = re.split(patron, elem)\n",
    "    titulos_sucio.append(resultado[1])\n",
    "    \n",
    "titulos = []\n",
    "for tit in titulos_sucio:\n",
    "    titulos.append((tit.split('-')[0]).strip())\n",
    "titulos\n",
    "\n"
   ]
  },
  {
   "cell_type": "code",
   "execution_count": 5,
   "metadata": {},
   "outputs": [
    {
     "data": {
      "text/plain": [
       "[[' 6:13 1965'],\n",
       " [' 7:11 1968'],\n",
       " [' 4:01 1970'],\n",
       " [' 5:55 1975'],\n",
       " [' 4:54 1982'],\n",
       " [' 5:43 1989'],\n",
       " [' 5:18 1969'],\n",
       " [' 5:01 1991'],\n",
       " [' 4:45 2011'],\n",
       " [' 3:53 2017'],\n",
       " [' 4:21 2008'],\n",
       " [' 3:52 2014'],\n",
       " [' 3:45,2012'],\n",
       " [' 4:27 2015'],\n",
       " [' 5:12 2007'],\n",
       " [' 4:30 2014'],\n",
       " [' 2:58 2019'],\n",
       " [' 3:38 2006'],\n",
       " [' 4:26 2000'],\n",
       " [' 4:54 2009']]"
      ]
     },
     "execution_count": 5,
     "metadata": {},
     "output_type": "execute_result"
    }
   ],
   "source": [
    "duracion_ano = []\n",
    "for elem in titulos_sucio:\n",
    "\n",
    "    patron_minutos_ano = r\"\\s\\d{1,2}:\\d{2},?\\s?\\d{4}\"\n",
    "    res = re.findall(patron_minutos_ano, elem)\n",
    "    duracion_ano.append(res)\n",
    "\n",
    "duracion_ano"
   ]
  },
  {
   "cell_type": "code",
   "execution_count": 6,
   "metadata": {},
   "outputs": [
    {
     "data": {
      "text/plain": [
       "['Like a Rolling Stone 6:13 1965',\n",
       " 'Hey Jude 7:11 1968',\n",
       " 'Your Song 4:01 1970',\n",
       " 'Bohemian Rhapsody 5:55 1975',\n",
       " 'Billie Jean 4:54 1982',\n",
       " 'Like a Prayer 5:43 1989',\n",
       " 'Space Oddity 5:18 1969',\n",
       " 'Smells Like Teen Spirit 5:01 1991',\n",
       " 'Someone Like You 4:45 2011',\n",
       " 'Shape of You 3:53 2017',\n",
       " 'Halo 4:21 2008',\n",
       " 'Blank Space 3:52 2014',\n",
       " 'Diamonds 3:45,2012',\n",
       " 'Hotline Bling 4:27 2015',\n",
       " 'Stronger 5:12 2007',\n",
       " 'Uptown Funk 4:30 2014',\n",
       " '7 Rings 2:58 2019',\n",
       " \"Hips Don't Lie 3:38 2006\",\n",
       " 'Yellow 4:26 2000',\n",
       " 'Bad Romance 4:54 2009']"
      ]
     },
     "execution_count": 6,
     "metadata": {},
     "output_type": "execute_result"
    }
   ],
   "source": [
    "lista_final = []\n",
    "\n",
    "for i in range(len(titulos)):\n",
    "    lista_final.append(titulos[i]+duracion_ano[i][0])\n",
    "lista_final"
   ]
  },
  {
   "cell_type": "markdown",
   "metadata": {},
   "source": [
    "#### 1.3 Almacena la información en una lista de diccionarios donde cada diccionario contenga los datos de un artista y su canción asociada."
   ]
  },
  {
   "cell_type": "code",
   "execution_count": 7,
   "metadata": {},
   "outputs": [
    {
     "data": {
      "text/plain": [
       "[{'Artista': 'BobDylan',\n",
       "  'Correo': 'bob.dylan@gmail.com',\n",
       "  'Telefono': '123456789',\n",
       "  'Web': 'http://bobdylan.com',\n",
       "  'Cancion': 'Like a Rolling Stone'},\n",
       " {'Artista': 'TheBeatles',\n",
       "  'Correo': 'contact@thebeatles.co.uk',\n",
       "  'Telefono': '234567890',\n",
       "  'Web': 'http://thebeatles.co.uk',\n",
       "  'Cancion': 'Hey Jude'},\n",
       " {'Artista': 'EltonJohn',\n",
       "  'Correo': 'elton.john@hotmail.com',\n",
       "  'Telefono': '345678901',\n",
       "  'Web': 'http://eltonjohn.com',\n",
       "  'Cancion': 'Your Song'},\n",
       " {'Artista': 'Queen',\n",
       "  'Correo': 'info@queenonline.com',\n",
       "  'Telefono': '456789012',\n",
       "  'Web': 'http://queenonline.com',\n",
       "  'Cancion': 'Bohemian Rhapsody'},\n",
       " {'Artista': 'MichaelJackson',\n",
       "  'Correo': 'michael.jackson@yahoo.com',\n",
       "  'Telefono': '567890123',\n",
       "  'Web': 'http://michaeljackson.com',\n",
       "  'Cancion': 'Billie Jean'},\n",
       " {'Artista': 'Madonna',\n",
       "  'Correo': 'madonna@madonna.com',\n",
       "  'Telefono': '678901234',\n",
       "  'Web': 'http://madonna.com',\n",
       "  'Cancion': 'Like a Prayer'},\n",
       " {'Artista': 'DavidBowie',\n",
       "  'Correo': 'david.bowie@outlook.com',\n",
       "  'Telefono': '789012345',\n",
       "  'Web': 'http://davidbowie.com',\n",
       "  'Cancion': 'Space Oddity'},\n",
       " {'Artista': 'Nirvana',\n",
       "  'Correo': 'contact@nirvana.com',\n",
       "  'Telefono': '890123456',\n",
       "  'Web': 'http://nirvana.com',\n",
       "  'Cancion': 'Smells Like Teen Spirit'},\n",
       " {'Artista': 'Adele',\n",
       "  'Correo': 'adele@adele.com',\n",
       "  'Telefono': '901234567',\n",
       "  'Web': 'http://adele.com',\n",
       "  'Cancion': 'Someone Like You'},\n",
       " {'Artista': 'EdSheeran',\n",
       "  'Correo': 'ed.sheeran@gmail.com',\n",
       "  'Telefono': '123456789',\n",
       "  'Web': 'http://edsheeran.com',\n",
       "  'Cancion': 'Shape of You'},\n",
       " {'Artista': 'Beyoncé',\n",
       "  'Correo': 'beyonce@beyonce.com',\n",
       "  'Telefono': '234567890',\n",
       "  'Web': 'http://beyonce.com',\n",
       "  'Cancion': 'Halo'},\n",
       " {'Artista': 'TaylorSwift',\n",
       "  'Correo': 'taylor.swift@yahoo.com',\n",
       "  'Telefono': '345678901',\n",
       "  'Web': 'http://taylorswift.com',\n",
       "  'Cancion': 'Blank Space'},\n",
       " {'Artista': 'Rihanna',\n",
       "  'Correo': 'rihanna@hotmail.com',\n",
       "  'Telefono': '456789012',\n",
       "  'Web': 'http://rihanna.com',\n",
       "  'Cancion': 'Diamonds'},\n",
       " {'Artista': 'Drake,',\n",
       "  'Correo': 'drake@drake.com',\n",
       "  'Telefono': '567890123,',\n",
       "  'Web': 'http://drake.com',\n",
       "  'Cancion': 'Hotline Bling'},\n",
       " {'Artista': 'KanyeWest',\n",
       "  'Correo': 'kanye.west@gmail.com',\n",
       "  'Telefono': '678901234',\n",
       "  'Web': 'http://kanyewest.com',\n",
       "  'Cancion': 'Stronger'},\n",
       " {'Artista': 'BrunoMars',\n",
       "  'Correo': 'bruno.mars@outlook.com',\n",
       "  'Telefono': '789012345',\n",
       "  'Web': 'https://brunomars.com',\n",
       "  'Cancion': 'Uptown Funk'},\n",
       " {'Artista': 'ArianaGrande',\n",
       "  'Correo': 'ariana.grande@yahoo.com',\n",
       "  'Telefono': '890123456',\n",
       "  'Web': 'https://arianagrande.com',\n",
       "  'Cancion': '7 Rings'},\n",
       " {'Artista': 'Shakira,',\n",
       "  'Correo': 'shakira@hotmail.com',\n",
       "  'Telefono': '123456789,',\n",
       "  'Web': 'http://shakira.com',\n",
       "  'Cancion': \"Hips Don't Lie\"},\n",
       " {'Artista': 'Coldplay',\n",
       "  'Correo': 'info@coldplay.com',\n",
       "  'Telefono': '234567890',\n",
       "  'Web': 'http://coldplay.com',\n",
       "  'Cancion': 'Yellow'},\n",
       " {'Artista': 'LadyGaga',\n",
       "  'Correo': 'lady.gaga@gmail.com',\n",
       "  'Telefono': '345678901',\n",
       "  'Web': 'https://ladygaga.com',\n",
       "  'Cancion': 'Bad Romance'}]"
      ]
     },
     "execution_count": 7,
     "metadata": {},
     "output_type": "execute_result"
    }
   ],
   "source": [
    "lista_artistas = []\n",
    "\n",
    "for i in range(len(artistas)):\n",
    "    dic = {\n",
    "        'Artista': artistas[i][0],\n",
    "        'Correo' : artistas[i][1],\n",
    "        'Telefono' : artistas[i][2],\n",
    "        'Web' : artistas[i][3],\n",
    "        'Cancion' : titulos[i]\n",
    "    }\n",
    "    lista_artistas.append(dic)\n",
    "\n",
    "lista_artistas\n"
   ]
  },
  {
   "cell_type": "markdown",
   "metadata": {},
   "source": [
    "### Ejercicio 2: Análisis de datos\n",
    "Usa las **expresiones regulares** para extraer la siguiente información:"
   ]
  },
  {
   "cell_type": "markdown",
   "metadata": {},
   "source": [
    "#### 2.1 Busca la palabra más repetida en el texto completo.\n"
   ]
  },
  {
   "cell_type": "code",
   "execution_count": 8,
   "metadata": {},
   "outputs": [
    {
     "name": "stdout",
     "output_type": "stream",
     "text": [
      "word_count: Counter({'i': 496, 'you': 390, 'a': 225, 'it': 214, 'oh': 214, 'the': 208, 'your': 166, 'and': 161, 'like': 154, 'my': 149, 'me': 137, 't': 131, 'to': 117, 'on': 115, 'in': 109, 'do': 103, 'can': 95, 's': 91, 'love': 90, 'that': 85, 'm': 85, 'don': 83, 'just': 74, 'want': 71, 'halo': 70, 'now': 65, 'we': 63, 'be': 59, 'is': 58, 'come': 58, 're': 57, 'know': 55, 'of': 49, 'for': 48, 'got': 48, 'baby': 48, 'but': 46, 'with': 45, 'up': 45, 'no': 42, 'yeah': 42, 'how': 40, 'feel': 40, 'never': 40, 'com': 38, 'not': 38, 'when': 38, 'so': 37, 'make': 37, 'take': 37, 'go': 37, 'all': 36, 'bad': 36, 'hello': 36, 'see': 35, 'll': 35, 'let': 33, 'this': 33, 'one': 33, 'they': 32, 'she': 32, 'cause': 32, 'shine': 32, 'need': 31, 'hey': 30, 'uptown': 30, 'funk': 30, 'romance': 30, 'doh': 29, 'prayer': 28, 'there': 28, 'right': 27, 'bright': 27, 'ah': 26, 'ya': 26, 'diamond': 25, 'body': 24, 've': 23, 'told': 23, 'better': 22, 'what': 22, 'too': 22, 'out': 21, 'if': 21, 'who': 20, 'night': 20, 'say': 19, 'am': 19, 'watch': 19, 'call': 18, 'only': 18, 'hour': 18, 'work': 18, 'believe': 18, 'http': 17, 'was': 17, 'get': 17, 'then': 17, 'down': 17, 'been': 17, 'over': 17, 'diamonds': 17, 'hot': 17, 'man': 16, 'la': 16, 'at': 15, 'could': 15, 'd': 15, 'tell': 15, 'are': 15, 'look': 15, 'sky': 15, 'us': 15, 'used': 14, 'ever': 14, 'much': 14, 'mind': 14, 'put': 14, 'lover': 14, 'voice': 14, 'whoa': 14, 'long': 14, 'stronger': 14, 'nothing': 13, 'or': 13, 'ooh': 13, 'wanna': 13, 'sometimes': 13, 'billie': 13, 'jean': 13, 'more': 13, 'girls': 13, 'beautiful': 13, 'shakira': 13, 'sí': 13, 'really': 12, 'her': 12, 'thing': 12, 'mean': 12, 'caught': 12, 'will': 12, 'name': 12, 'girl': 12, 'tonight': 12, 'rah': 12, 'roma': 12, 'didn': 11, 'have': 11, 'ain': 11, 'life': 11, 'way': 11, 'think': 11, 'dance': 11, 'write': 11, 'gonna': 10, 'remember': 10, 'little': 10, 'someone': 10, 'low': 10, 'leave': 10, 'here': 10, 'every': 10, 'give': 10, 'damn': 10, 'fighting': 10, 'were': 9, 'talk': 9, 'he': 9, 'as': 9, 'eyes': 9, 'from': 9, 'jude': 9, 'boy': 9, 'makes': 9, 'had': 9, 'late': 9, 'son': 9, 'denial': 9, 'something': 9, 'new': 9, 'hotline': 9, 'bling': 9, 'phone': 9, 'since': 9, 'harder': 9, 'faster': 9, 'walk': 9, 'time': 8, 'does': 8, 'after': 8, 'everything': 8, 'song': 8, '4': 8, 'money': 8, 'things': 8, 'away': 8, 'said': 8, 'always': 8, 'kid': 8, 'hear': 8, 'dream': 8, 'major': 8, 'tom': 8, 'friends': 8, 'find': 8, 'hit': 8, 'insane': 8, 'cell': 8, 'n': 8, 'than': 8, 'gon': 8, 'home': 7, 'his': 7, 'own': 7, 'skin': 7, 'well': 7, 'by': 7, 'show': 7, 'best': 7, 'back': 7, 'face': 7, 'eye': 7, 'floor': 7, 'lie': 7, 'says': 7, 'wait': 7, 'turn': 7, 'shape': 7, 'left': 7, 'act': 7, 'bitch': 7, 'gaga': 7, 'revenge': 7, 'rolling': 6, 'stone': 6, 'people': 6, 'mystery': 6, 'heart': 6, 'world': 6, 'hope': 6, 'keep': 6, 'god': 6, 'control': 6, 'mm': 6, 'ground': 6, 'entertain': 6, 'lasts': 6, 'hurts': 6, 'instead': 6, 'follow': 6, 'lead': 6, 'crazy': 6, 'day': 6, 'discovering': 6, 'brand': 6, 'list': 6, 'ex': 6, 'lovers': 6, 'city': 6, 'else': 6, 'hallelujah': 6, 'woo': 6, 'bought': 6, 'hips': 6, 'casa': 6, 'move': 6, 'baila': 6, 'en': 6, 'yellow': 6, 'ma': 6, '1': 5, 'about': 5, 'everybody': 5, 'seem': 5, 'into': 5, 'where': 5, 'made': 5, 'begin': 5, 'waiting': 5, 'may': 5, 'seen': 5, '5': 5, 'wish': 5, 'very': 5, 'galileo': 5, 'round': 5, 'young': 5, 'space': 5, 'our': 5, 'forget': 5, 'why': 5, 'doing': 5, 'nasty': 5, 'alive': 5, 'se': 5, 'starting': 5, 'gmail': 4, 'complete': 4, 'unknown': 4, 'nobody': 4, 'direction': 4, 'did': 4, 'good': 4, 'hard': 4, 'him': 4, '44': 4, 'start': 4, 'pain': 4, 'found': 4, 'fade': 4, 'again': 4, 'quite': 4, 'while': 4, 'sun': 4, 'blue': 4, 'real': 4, 'poor': 4, 'easy': 4, 'high': 4, 'mama': 4, 'matters': 4, 'gotta': 4, 'careful': 4, 'claims': 4, 'smell': 4, 'room': 4, 'madonna': 4, 'must': 4, 'knees': 4, 'midnight': 4, 'power': 4, 'an': 4, 'choice': 4, 'nice': 4, 'far': 4, 'less': 4, 'adele': 4, 'heard': 4, 'light': 4, 'couldn': 4, 'would': 4, '3': 4, 'pull': 4, 'even': 4, 'lookin': 4, 'blank': 4, 'saw': 4, 'game': 4, 'scar': 4, 'knew': 4, 'shining': 4, 'drake': 4, 'some': 4, 'kill': 4, 'hurry': 4, 'longer': 4, 'wronger': 4, 'shit': 4, 'anything': 4, 'j': 4, 'myself': 4, 'wha': 4, 'hair': 4, 'gee': 4, 'thanks': 4, 'calle': 4, 'de': 4, '123456789': 3, 'thought': 3, 'any': 3, 'turned': 3, 'around': 3, 'pretty': 3, 'thebeatles': 3, '234567890': 3, 'sad': 3, 'carry': 3, 'na': 3, 'hotmail': 3, '34': 3, '345678901': 3, 'feeling': 3, 'inside': 3, 'done': 3, 'words': 3, 'wonderful': 3, 'off': 3, 'queen': 3, 'has': 3, 'die': 3, 'ب': 3, 'س': 3, 'م': 3, 'ٱلل': 3, 'ه': 3, 'mamma': 3, 'mia': 3, 'yahoo': 3, '54': 3, 'breaking': 3, 'days': 3, 'stand': 3, 'plans': 3, 'danced': 3, 'twice': 3, 'came': 3, 'alone': 3, 'feels': 3, 'muse': 3, 'db': 3, 'six': 3, 'knows': 3, 'through': 3, 'wrong': 3, 'nirvana': 3, 'lights': 3, 'dangerous': 3, 'stupid': 3, 'contagious': 3, 'mulatto': 3, 'albino': 3, 'mosquito': 3, 'libido': 3, 'hold': 3, 'stay': 3, 'fight': 3, 'isn': 3, 'slow': 3, 'hand': 3, 'stop': 3, 'grab': 3, 'push': 3, 'magnet': 3, 'although': 3, 'falling': 3, 'last': 3, 'bedsheets': 3, 'first': 3, 'fill': 3, 'kiss': 3, 'play': 3, 'beyonce': 3, 'everywhere': 3, 'surrounded': 3, 'embrace': 3, 'saving': 3, 'grace': 3, 'written': 3, 'pray': 3, 'won': 3, 'forever': 3, 'flames': 3, 'worth': 3, 'players': 3, 'reckless': 3, 'breathless': 3, 'rihanna': 3, 'before': 3, 'should': 3, 'em': 3, 'uh': 3, 'https': 3, 'them': 3, 'saturday': 3, 'spot': 3, 'sexy': 3, 'wow': 3, 'yep': 3, 'wants': 3, 'speak': 3, 'spanish': 3, 'cómo': 3, 'llama': 3, 'bonita': 3, 'mi': 3, 'su': 3, 'wise': 3, 'reading': 3, 'signs': 3, 'attraction': 3, 'tension': 3, 'perfection': 3, 'así': 3, 'coldplay': 3, 'free': 3, 'fashion': 3, 'veux': 3, 'bobdylan': 2, '13': 2, 'upon': 2, 'dressed': 2, 'bound': 2, 'fall': 2, 'hanging': 2, 'next': 2, 'ahh': 2, 'gone': 2, 'taught': 2, 'live': 2, 'ride': 2, 'carried': 2, 'shoulder': 2, 'took': 2, 'drinking': 2, 'ring': 2, 'babe': 2, 'calls': 2, 'lose': 2, 'contact': 2, 'co': 2, 'uk': 2, '7': 2, '11': 2, 'minute': 2, 'under': 2, 'number': 2, 'eltonjohn': 2, '01': 2, 'bit': 2, 'funny': 2, 'those': 2, 'hide': 2, 'buy': 2, 'big': 2, 'both': 2, 'gift': 2, 'simple': 2, 'moss': 2, 'wrote': 2, 'these': 2, 'info': 2, 'queenonline': 2, '23': 2, '456789012': 2, 'fantasy': 2, 'skies': 2, 'wind': 2, 'blows': 2, 'head': 2, 'truth': 2, 'born': 2, 'scaramouche': 2, 'family': 2, 'michaeljackson': 2, 'jackson': 2, '567890123': 2, 'scene': 2, 'hearts': 2, 'forty': 2, 'three': 2, 'mine': 2, 'sweet': 2, 'called': 2, '678901234': 2, 'everyone': 2, 'angel': 2, 'close': 2, 'fallin': 2, 'heaven': 2, 'child': 2, 'dancing': 2, 'end': 2, 'sing': 2, 'davidbowie': 2, 'outlook': 2, '789012345': 2, 'jh': 2, 'sound': 2, 'check': 2, 'still': 2, 'spaceship': 2, 'which': 2, 'earth': 2, '2': 2, '890123456': 2, 'self': 2, 'yay': 2, 'until': 2, 'taste': 2, 'guess': 2, 'smile': 2, '45': 2, 'true': 2, 'hate': 2, 'uninvited': 2, 'hoped': 2, 'reminded': 2, 'beg': 2, 'begged': 2, 'edsheeran': 2, 'club': 2, 'singing': 2, 'handmade': 2, 'somebody': 2, 'waist': 2, 'going': 2, 'bag': 2, 'hours': 2, 'awakened': 2, 'rule': 2, 'breakin': 2, 'risk': 2, 'takin': 2, 'shut': 2, 'taylorswift': 2, '2014': 2, 'incredible': 2, 'passport': 2, 'boys': 2, 'torture': 2, 'warn': 2, 'shooting': 2, 'star': 2, 'vision': 2, 'ecstasy': 2, 'sight': 2, 'felt': 2, 'energy': 2, 'rays': 2, 'yourself': 2, 'wearing': 2, 'along': 2, 'wonder': 2, 'kanyewest': 2, 'black': 2, 'christian': 2, 'anymore': 2, 'trippin': 2, 'front': 2, 'makin': 2, 'prince': 2, 'apollonia': 2, 'o': 2, 'isotoners': 2, 'brunomars': 2, 'aow': 2, 'police': 2, 'fireman': 2, 'dragon': 2, 'retire': 2, 'band': 2, 'bout': 2, 'break': 2, 'jump': 2, 'flaunt': 2, 'brag': 2, 'arianagrande': 2, 'rather': 2, 'neck': 2, 'solve': 2, 'enough': 2, 'gleamin': 2, 'closet': 2, 'card': 2, 'shoot': 2, '57': 2, 'ladies': 2, 'refugees': 2, 'woman': 2, 'mad': 2, 'uno': 2, 'dos': 2, 'tres': 2, 'cuatro': 2, 'moving': 2, 'perfecto': 2, 'half': 2, 'fail': 2, 'noche': 2, 'día': 2, 'barranquilla': 2, 'humpty': 2, 'bop': 2, 'stars': 2, 'bones': 2, 'across': 2, 'drew': 2, 'line': 2, 'bleed': 2, 'dry': 2, 'ladygaga': 2, 'ton': 2, 'amour': 2, 'bob': 1, 'dylan': 1, '6': 1, '1965': 1, 'once': 1, 'fine': 1, 'threw': 1, 'bums': 1, 'dime': 1, 'prime': 1, 'beware': 1, 'doll': 1, 'kidding': 1, 'laugh': 1, 'loud': 1, 'proud': 1, 'having': 1, 'scrounging': 1, 'meal': 1, 'without': 1, 'finest': 1, 'schools': 1, 'alright': 1, 'miss': 1, 'lonely': 1, 'juiced': 1, 'street': 1, 'compromise': 1, 'tramp': 1, 'realize': 1, 'selling': 1, 'alibis': 1, 'stare': 1, 'vacuum': 1, 'deal': 1, 'frowns': 1, 'jugglers': 1, 'clowns': 1, 'tricks': 1, 'understood': 1, 'shouldn': 1, 'other': 1, 'kicks': 1, 'chrome': 1, 'horse': 1, 'diplomat': 1, 'siamese': 1, 'cat': 1, 'discovered': 1, 'wasn': 1, 'steal': 1, 'princess': 1, 'steeple': 1, 'thinking': 1, 'exchanging': 1, 'precious': 1, 'gifts': 1, 'pawn': 1, 'amused': 1, 'napoleon': 1, 'rags': 1, 'language': 1, 'refuse': 1, 'invisible': 1, 'secrets': 1, 'conceal': 1, '1968': 1, 'afraid': 1, 'anytime': 1, 'refrain': 1, 'shoulders': 1, 'fool': 1, 'plays': 1, 'cool': 1, 'making': 1, 'colder': 1, 'perform': 1, 'movement': 1, 'nananana': 1, 'nannana': 1, 'repeat': 1, 'x': 1, 'times': 1, 'elton': 1, 'john': 1, '1970': 1, 'easily': 1, 'house': 1, 'sculptor': 1, 'potions': 1, 'travelling': 1, 'sat': 1, 'roof': 1, 'kicked': 1, 'few': 1, 'verses': 1, 'cross': 1, 'kind': 1, 'excuse': 1, 'forgetting': 1, 'forgotten': 1, 'green': 1, 'anyway': 1, 'yours': 1, 'sweetest': 1, 'bohemian': 1, 'rhapsody': 1, '55': 1, '1975': 1, 'landslide': 1, 'escape': 1, 'reality': 1, 'open': 1, 'sympathy': 1, 'because': 1, 'doesn': 1, 'matter': 1, 'killed': 1, 'gun': 1, 'against': 1, 'pulled': 1, 'trigger': 1, 'dead': 1, 'begun': 1, 'thrown': 1, 'cry': 1, 'tomorrow': 1, 'sends': 1, 'shivers': 1, 'spine': 1, 'aching': 1, 'goodbye': 1, 'behind': 1, 'silhouetto': 1, 'fandango': 1, 'thunderbolt': 1, 'lightning': 1, 'frightening': 1, 'figaro': 1, 'magnifico': 1, 'loves': 1, 'spare': 1, 'monstrosity': 1, 'beelzebub': 1, 'devil': 1, 'aside': 1, 'spit': 1, 'outta': 1, 'anyone': 1, 'michael': 1, '1982': 1, 'beauty': 1, 'movie': 1, 'caused': 1, 'dreamed': 1, 'being': 1, 'mother': 1, 'becomes': 1, 'nights': 1, 'law': 1, 'side': 1, 'demand': 1, 'schemes': 1, 'strong': 1, 'advice': 1, 'til': 1, 'looked': 1, 'showed': 1, 'photo': 1, 'cried': 1, 'stood': 1, 'perfume': 1, 'happened': 1, 'soon': 1, '43': 1, '1989': 1, 'sighin': 1, 'flying': 1, 'help': 1, 'whisper': 1, 'softly': 1, 'beginning': 1, 'choir': 1, 'mmm': 1, 'yee': 1, 'david': 1, 'bowie': 1, 'oddity': 1, '18': 1, '1969': 1, 'ok': 1, 'hutch': 1, 'begins': 1, 'playing': 1, 'ope': 1, 'hun': 1, 'single': 1, 'recording': 1, 'christie': 1, 'protein': 1, 'pills': 1, 'helmet': 1, '10': 1, 'nine': 1, 'eight': 1, 'seven': 1, 'commencing': 1, 'five': 1, 'countdown': 1, 'engines': 1, 'four': 1, 'two': 1, 'ignition': 1, 'blast': 1, 'wife': 1, 'though': 1, 'passed': 1, '100': 1, '000': 1, 'miles': 1, 'course': 1, 'sitting': 1, 'tin': 1, 'above': 1, 'moon': 1, 'planet': 1, 'smells': 1, 'teen': 1, 'spirit': 1, '1991': 1, 'load': 1, 'guns': 1, 'bring': 1, 'fun': 1, 'pretend': 1, 'bored': 1, 'assured': 1, 'dirty': 1, 'word': 1, 'worse': 1, 'blessed': 1, 'group': 1, 'whatever': 1, 'nevermind': 1, '901234567': 1, '2011': 1, 'settled': 1, 'married': 1, 'dreams': 1, 'gave': 1, 'old': 1, 'friend': 1, 'shy': 1, 'flies': 1, 'yesterday': 1, 'lives': 1, 'raised': 1, 'summer': 1, 'haze': 1, 'surprise': 1, 'glory': 1, 'compares': 1, 'worries': 1, 'cares': 1, 'regrets': 1, 'mistakes': 1, 'memories': 1, 'known': 1, 'bittersweet': 1, 'ed': 1, 'sheeran': 1, '53': 1, '2017': 1, 'place': 1, 'bar': 1, 'table': 1, 'shots': 1, 'fast': 1, 'conversation': 1, 'trust': 1, 'chance': 1, 'van': 1, 'jukebox': 1, 'week': 1, 'story': 1, 'date': 1, 'thrifty': 1, 'eat': 1, 'plate': 1, 'sour': 1, 'okay': 1, 'taxi': 1, 'backseat': 1, 'driver': 1, 'radio': 1, 'beyoncé': 1, '21': 1, '2008': 1, 'walls': 1, 'built': 1, 'tumbling': 1, 'doubt': 1, 'standin': 1, 'ray': 1, 'burning': 1, 'darkest': 1, 'addicted': 1, 'swore': 1, 'gravity': 1, 'taylor': 1, 'swift': 1, '52': 1, 'meet': 1, 'magic': 1, 'madness': 1, 'sin': 1, 'mistake': 1, 'ay': 1, 'suit': 1, 'tie': 1, 'read': 1, 'magazine': 1, 'rumors': 1, 'fly': 1, 'dying': 1, 'ends': 1, 'guys': 1, 'weekend': 1, 'cherry': 1, 'lips': 1, 'crystal': 1, 'stolen': 1, 'kisses': 1, 'lies': 1, 'king': 1, 'month': 1, 'worst': 1, 'yet': 1, 'screaming': 1, 'crying': 1, 'perfect': 1, 'storms': 1, 'tables': 1, 'rose': 1, 'garden': 1, 'filled': 1, 'thorns': 1, 'second': 1, 'guessing': 1, 'drunk': 1, 'jealousy': 1, 'each': 1, 'darling': 1, 'nightmare': 1, 'daydream': 1, '2012': 1, 'sea': 1, 'choose': 1, 'happy': 1, 'become': 1, 'palms': 1, 'rise': 1, 'universe': 1, 'moonshine': 1, 'molly': 1, 'warmth': 1, '27': 1, '2015': 1, 'reputation': 1, 'stressed': 1, 'started': 1, 'goin': 1, 'glasses': 1, 'champagne': 1, 'hangin': 1, 'places': 1, 'belong': 1, 'exactly': 1, 'asked': 1, 'running': 1, 'pages': 1, 'bendin': 1, 'backwards': 1, 'backwoods': 1, 'gettin': 1, 'touching': 1, 'road': 1, 'zone': 1, 'kanye': 1, 'west': 1, '12': 1, '2007': 1, 'lost': 1, 'kate': 1, 'secretary': 1, 'boss': 1, 'fuck': 1, 'awesome': 1, 'dior': 1, 'ask': 1, 'sure': 1, 'anybody': 1, 'bow': 1, 'presence': 1, 'greatness': 1, 'thou': 1, 'hast': 1, 'forsaken': 1, 'honored': 1, 'lateness': 1, 'fake': 1, 'ahead': 1, 'nuts': 1, 'apeshit': 1, 'specially': 1, 'pastelle': 1, 'bape': 1, 'gospel': 1, 'homie': 1, 'haters': 1, 'likey': 1, 'drink': 1, 'sayin': 1, 'lot': 1, 'hell': 1, 'thousand': 1, 'yous': 1, 'moment': 1, 'louis': 1, 'vuitton': 1, 'kan': 1, 'klondike': 1, 'blonde': 1, 'dyke': 1, 'limelight': 1, 'bruno': 1, 'mars': 1, '30': 1, 'ice': 1, 'cold': 1, 'michelle': 1, 'pfeiffer': 1, 'white': 1, 'gold': 1, 'hood': 1, 'straight': 1, 'masterpieces': 1, 'stylin': 1, 'wilin': 1, 'livin': 1, 'chucks': 1, 'saint': 1, 'laurent': 1, 'cup': 1, 'liquor': 1, 'sip': 1, 'sign': 1, 'julio': 1, 'stretch': 1, 'harlem': 1, 'hollywood': 1, 'mississippi': 1, 'smoother': 1, 'fresh': 1, 'jar': 1, 'skippy': 1, 'lemme': 1, 'y': 1, 'lil': 1, 'freaky': 1, 'ariana': 1, 'grande': 1, 'rings': 1, '58': 1, '2019': 1, 'breakfast': 1, 'tiffany': 1, 'bottles': 1, 'bubbles': 1, 'tattoos': 1, 'getting': 1, 'trouble': 1, 'lashes': 1, 'atm': 1, 'machines': 1, 'favourite': 1, 'savage': 1, 'tied': 1, 'strings': 1, 'checks': 1, 'wrist': 1, 'watchin': 1, 'flossy': 1, 'deposits': 1, 'gloss': 1, 'poppin': 1, 'mrs': 1, 'matching': 1, 'bitches': 1, 'spoil': 1, 'riches': 1, 'retail': 1, 'therapy': 1, 'addiction': 1, 'whoever': 1, 'problems': 1, 'nah': 1, 'happiness': 1, 'same': 1, 'price': 1, 'red': 1, 'bottoms': 1, 'beamin': 1, 'crib': 1, 'hers': 1, 'receipts': 1, 'numbers': 1, 'business': 1, 'settin': 1, 'tone': 1, 'racks': 1, 'stacked': 1, 'ass': 1, 'store': 1, 'booth': 1, 'loop': 1, 'loot': 1, 'juice': 1, 'net': 1, 'jet': 1, 'pay': 1, 'respect': 1, 'budget': 1, 'set': 1, '38': 1, '2006': 1, 'driving': 1, 'slightest': 1, 'idea': 1, 'cannot': 1, 'ignore': 1, 'unexpected': 1, 'shaking': 1, 'es': 1, 'animal': 1, 'plan': 1, 'restraint': 1, 'explain': 1, 'hypnotized': 1, 'señorita': 1, 'conga': 1, 'colombia': 1, 'mira': 1, 'brra': 1, 'refugee': 1, 'fugees': 1, 'third': 1, 'country': 1, 'pac': 1, 'crates': 1, 'whole': 1, 'dizzy': 1, 'cia': 1, 'colombians': 1, 'haitians': 1, 'guilty': 1, 'musical': 1, 'transaction': 1, 'bo': 1, 'snatch': 1, 'ropes': 1, 'run': 1, 'seas': 1, 'boats': 1, '26': 1, '2000': 1, 'swam': 1, 'jumped': 1, 'lady': 1, '2009': 1, 'ugly': 1, 'disease': 1, 'drama': 1, 'touch': 1, 'leather': 1, 'studded': 1, 'sand': 1, 'horror': 1, 'design': 1, 'criminal': 1, 'psycho': 1, 'vertigo': 1, 'shtick': 1, 'rear': 1, 'window': 1, 'sick': 1, 'passion': 1, 'et': 1, 'je': 1, 'ta': 1, 'revanche': 1})\n",
      "La palabra más repetida es: i\n"
     ]
    }
   ],
   "source": [
    "words = re.findall(r'\\b\\w+\\b', contenido.lower())\n",
    "\n",
    "word_counts = Counter(words)\n",
    "print(f'word_count: {word_counts}')\n",
    "\n",
    "respetida = dict(sorted(word_counts.items(), key=lambda item: item[1], reverse=True))\n",
    "\n",
    "print(f'La palabra más repetida es: {list(respetida.keys())[0]}')"
   ]
  },
  {
   "cell_type": "markdown",
   "metadata": {},
   "source": [
    "#### 2.2 Busca la palabra que más repetida en cada cación.\n"
   ]
  },
  {
   "cell_type": "code",
   "execution_count": 9,
   "metadata": {},
   "outputs": [
    {
     "name": "stdout",
     "output_type": "stream",
     "text": [
      "La palabra más repetida es \"you\" en la cancion **Like a Rolling Stone**\n",
      "La palabra más repetida es \"you\" en la cancion **Hey Jude**\n",
      "La palabra más repetida es \"i\" en la cancion **Your Song**\n",
      "La palabra más repetida es \"me\" en la cancion **Bohemian Rhapsody**\n",
      "La palabra más repetida es \"the\" en la cancion **Billie Jean**\n",
      "La palabra más repetida es \"a\" en la cancion **Like a Prayer**\n",
      "La palabra más repetida es \"i\" en la cancion **Space Oddity**\n",
      "La palabra más repetida es \"hello\" en la cancion **Smells Like Teen Spirit**\n",
      "La palabra más repetida es \"i\" en la cancion **Someone Like You**\n",
      "La palabra más repetida es \"i\" en la cancion **Shape of You**\n",
      "La palabra más repetida es \"halo\" en la cancion **Halo**\n",
      "La palabra más repetida es \"you\" en la cancion **Blank Space**\n",
      "La palabra más repetida es \"like\" en la cancion **Diamonds**\n",
      "La palabra más repetida es \"you\" en la cancion **Hotline Bling**\n",
      "La palabra más repetida es \"i\" en la cancion **Stronger**\n",
      "La palabra más repetida es \"do\" en la cancion **Uptown Funk**\n",
      "La palabra más repetida es \"i\" en la cancion **7 Rings**\n",
      "La palabra más repetida es \"i\" en la cancion **Hips Don't Lie**\n",
      "La palabra más repetida es \"you\" en la cancion **Yellow**\n",
      "La palabra más repetida es \"oh\" en la cancion **Bad Romance**\n"
     ]
    }
   ],
   "source": [
    "canciones_sucias = contenido.split(\"./\")\n",
    "\n",
    "canciones = []\n",
    "\n",
    "for elem in canciones_sucias:\n",
    "    patron = r\"\\s\\d{1,2}:\\d{2},?\\s?\\d{4}\"\n",
    "    resultado = re.split(patron, elem)[1]\n",
    "    canciones.append(resultado)\n",
    "\n",
    "i=0\n",
    "for cancion in canciones:\n",
    "    words = re.findall(r'\\b\\w+\\b', cancion.lower())\n",
    "\n",
    "    word_counts = Counter(words)\n",
    "    respetida = dict(sorted(word_counts.items(), key=lambda item: item[1], reverse=True))    \n",
    "    print(f'La palabra más repetida es \"{list(respetida.keys())[0]}\" en la cancion **{titulos[i]}**')\n",
    "\n",
    "    i+=1\n",
    "\n"
   ]
  },
  {
   "cell_type": "markdown",
   "metadata": {},
   "source": [
    "#### 2.3 Busca el nombre de la canción que más dura.\n"
   ]
  },
  {
   "cell_type": "code",
   "execution_count": 10,
   "metadata": {},
   "outputs": [
    {
     "name": "stdout",
     "output_type": "stream",
     "text": [
      "La canción más larga es: Hey Jude con una duración de 7:11\n"
     ]
    }
   ],
   "source": [
    "duracion_ano\n",
    "duraciones = {}\n",
    "i=0\n",
    "for dur in duracion_ano:\n",
    "    patron_duracion = r\"\\d{1,2}:\\d{2}\"\n",
    "    sol = re.findall(patron_duracion, dur[0])\n",
    "    duraciones[titulos[i]] =sol[0]\n",
    "    i+=1\n",
    "\n",
    "mas_larga = dict(sorted(duraciones.items(), key=lambda item: item[1], reverse=True))\n",
    "\n",
    "print(f'La canción más larga es: {list(mas_larga.keys())[0]} con una duración de {list(mas_larga.values())[0]}')"
   ]
  },
  {
   "cell_type": "markdown",
   "metadata": {},
   "source": [
    "#### 2.4 Busca el nombre de la canción que menos dura."
   ]
  },
  {
   "cell_type": "code",
   "execution_count": 11,
   "metadata": {},
   "outputs": [
    {
     "name": "stdout",
     "output_type": "stream",
     "text": [
      "La canción más corta es: 7 Rings con una duración de 2:58\n"
     ]
    }
   ],
   "source": [
    "print(f'La canción más corta es: {list(mas_larga.keys())[-1]} con una duración de {list(mas_larga.values())[-1]}')"
   ]
  },
  {
   "cell_type": "markdown",
   "metadata": {},
   "source": [
    "#### 2.5 Busca el nombre y la fecha de lanzamiento de la canción más actual."
   ]
  },
  {
   "cell_type": "code",
   "execution_count": 16,
   "metadata": {},
   "outputs": [
    {
     "name": "stdout",
     "output_type": "stream",
     "text": [
      "La canción más actual es 7 Rings lanzada el año 2019\n"
     ]
    }
   ],
   "source": [
    "lanzamiento = {}\n",
    "i=0\n",
    "for fecha in duracion_ano:\n",
    "    patron_duracion = r\"\\d{4}\"\n",
    "    sol = re.findall(patron_duracion, fecha[0])\n",
    "    lanzamiento[titulos[i]] =sol[0]\n",
    "    i+=1\n",
    "\n",
    "cancion_lanzamiento = dict(sorted(lanzamiento.items(), key=lambda item: item[1], reverse=True))\n",
    "\n",
    "print(f'La canción más actual es {list(cancion_lanzamiento.keys())[0]} lanzada el año {list(cancion_lanzamiento.values())[0]}')"
   ]
  },
  {
   "cell_type": "markdown",
   "metadata": {},
   "source": [
    "#### 2.6 Calcula la cantidad de países a partir de los números de contacto."
   ]
  },
  {
   "cell_type": "code",
   "execution_count": 17,
   "metadata": {},
   "outputs": [
    {
     "name": "stdout",
     "output_type": "stream",
     "text": [
      "Hay 9 paises distintos.\n"
     ]
    }
   ],
   "source": [
    "aux1 = contenido.split(\"./\")\n",
    "prefijos=[]\n",
    "for elem in aux1:\n",
    "    aux_bucle = elem.split()\n",
    "    prefijos.append(aux_bucle[2])\n",
    "\n",
    "num_paises = len(set(prefijos))\n",
    "print(f'Hay {num_paises} paises distintos.')"
   ]
  },
  {
   "cell_type": "markdown",
   "metadata": {},
   "source": [
    "#### 2.7 Agrupa las canciones por década."
   ]
  },
  {
   "cell_type": "code",
   "execution_count": 18,
   "metadata": {},
   "outputs": [
    {
     "name": "stdout",
     "output_type": "stream",
     "text": [
      "2010s: ['7 Rings', 'Shape of You', 'Hotline Bling', 'Blank Space', 'Uptown Funk', 'Diamonds', 'Someone Like You']\n",
      "2000s: ['Bad Romance', 'Halo', 'Stronger', \"Hips Don't Lie\", 'Yellow']\n",
      "1990s: ['Smells Like Teen Spirit']\n",
      "1980s: ['Like a Prayer', 'Billie Jean']\n",
      "1970s: ['Bohemian Rhapsody', 'Your Song']\n",
      "1960s: ['Space Oddity', 'Hey Jude', 'Like a Rolling Stone']\n"
     ]
    }
   ],
   "source": [
    "canciones_por_decada = {}\n",
    "\n",
    "for cancion, anio in cancion_lanzamiento.items():\n",
    "\n",
    "    decada = (int(anio) // 10) * 10 \n",
    "    decada_str = f\"{decada}s\"\n",
    "    \n",
    "    if decada_str not in canciones_por_decada:\n",
    "        canciones_por_decada[decada_str] = []\n",
    "\n",
    "    canciones_por_decada[decada_str].append(cancion)\n",
    "\n",
    "for decada, canciones in canciones_por_decada.items():\n",
    "    print(f\"{decada}: {canciones}\")\n"
   ]
  },
  {
   "cell_type": "code",
   "execution_count": null,
   "metadata": {},
   "outputs": [],
   "source": []
  }
 ],
 "metadata": {
  "kernelspec": {
   "display_name": "Python 3",
   "language": "python",
   "name": "python3"
  },
  "language_info": {
   "codemirror_mode": {
    "name": "ipython",
    "version": 3
   },
   "file_extension": ".py",
   "mimetype": "text/x-python",
   "name": "python",
   "nbconvert_exporter": "python",
   "pygments_lexer": "ipython3",
   "version": "3.12.4"
  }
 },
 "nbformat": 4,
 "nbformat_minor": 2
}
